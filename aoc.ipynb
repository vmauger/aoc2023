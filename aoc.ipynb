{
 "cells": [
  {
   "cell_type": "code",
   "execution_count": 1,
   "metadata": {
    "tags": []
   },
   "outputs": [],
   "source": [
    "def read_data(day_number, extension):\n",
    "    path = f'data_d{day_number}.{extension}'\n",
    "    with open(path) as f:\n",
    "            data = f.read()\n",
    "    data = data.strip('\\n\\n').split('\\n')\n",
    "    return data"
   ]
  },
  {
   "cell_type": "markdown",
   "metadata": {},
   "source": [
    "Day 1"
   ]
  },
  {
   "cell_type": "code",
   "execution_count": 2,
   "metadata": {},
   "outputs": [],
   "source": [
    "\n",
    "# data = read_data(1,\"csv\")\n",
    "# numbers = [\"0\",\"one\",\"two\",\"three\",\"four\",\"five\",\"six\",\"seven\",\"eight\",\"nine\"]\n",
    "# total_value = 0\n",
    "# for calibration in data:\n",
    "#     max_value = -1\n",
    "#     min_value = len(calibration)\n",
    "#     first_number = \"\"\n",
    "#     last_number = \"\"\n",
    "    \n",
    "#     for rank, value in enumerate(numbers):\n",
    "#         if calibration.find(str(rank)) != -1:\n",
    "#             left_pos = calibration.find(str(rank))\n",
    "#             right_pos = calibration.rfind(str(rank))\n",
    "#             if left_pos < min_value:\n",
    "#                 min_value = left_pos\n",
    "#                 first_number = rank\n",
    "#             if right_pos > max_value:\n",
    "#                 max_value = right_pos\n",
    "#                 last_number = rank\n",
    "\n",
    "#         if calibration.find(value) != -1:\n",
    "#             left_pos = calibration.find(value)\n",
    "#             right_pos = calibration.rfind(value)\n",
    "#             if left_pos < min_value:\n",
    "#                 min_value = left_pos\n",
    "#                 first_number = rank\n",
    "#             if right_pos > max_value:\n",
    "#                 max_value = right_pos\n",
    "#                 last_number = rank\n",
    "#     print(f'{calibration} --> {first_number*10+last_number}')\n",
    "#     total_value += first_number*10+last_number\n",
    "# print(f'Total sum: {total_value}')"
   ]
  },
  {
   "attachments": {},
   "cell_type": "markdown",
   "metadata": {},
   "source": [
    "Day 2"
   ]
  },
  {
   "cell_type": "code",
   "execution_count": 3,
   "metadata": {},
   "outputs": [],
   "source": [
    "# data = read_data(2,\"csv\")\n",
    "\n",
    "# sum_of_games_id = 0\n",
    "# sum_of_mini_cubes = 0\n",
    "# for index,game in enumerate(data):\n",
    "#     game_number = index + 1\n",
    "#     game = game.removeprefix(f'Game {game_number}: ').split('; ')\n",
    "#     color_count = {'red':[], 'green': [], 'blue': []}\n",
    "#     for draw in game:\n",
    "#         for ball in draw.split(', '):\n",
    "#             color = ball.split(' ')[-1]\n",
    "#             numb = int(ball.split(' ')[0])\n",
    "#             if color not in color_count:\n",
    "#                 color_count[color] = [numb]\n",
    "#             else:\n",
    "#                 color_count[color].append(numb)\n",
    "#     if max(color_count['red']) <= 12 and max(color_count['green']) <= 13 and max(color_count['blue']) <= 14:\n",
    "#         sum_of_games_id += game_number\n",
    "#     sum_of_mini_cubes += (max(color_count['red']) * max(color_count['green']) * max(color_count['blue']))\n",
    "# print(sum_of_games_id)\n",
    "# print(sum_of_mini_cubes)"
   ]
  },
  {
   "attachments": {},
   "cell_type": "markdown",
   "metadata": {},
   "source": [
    "Day 3"
   ]
  },
  {
   "cell_type": "code",
   "execution_count": 40,
   "metadata": {},
   "outputs": [
    {
     "name": "stdout",
     "output_type": "stream",
     "text": [
      "525181\n"
     ]
    }
   ],
   "source": [
    "import re\n",
    "\n",
    "\n",
    "def symbol_nearby(text,match):\n",
    "    return len(re.findall(symbol_pattern,text[max(match.start()-1,0):min(match.end()+1,len(text)+1)])) != 0\n",
    "\n",
    "\n",
    "data = read_data(3,\"csv\")\n",
    "data_length = len(data)\n",
    "symbol_pattern = re.compile(r\"[^\\d\\.\\r\\n]\")\n",
    "count = 0\n",
    "\n",
    "for index,line in enumerate(data):\n",
    "    for number in re.finditer(r\"\\d+\",line):\n",
    "        is_symbol_nearby = symbol_nearby(line,number) or symbol_nearby(data[index-1],number) or symbol_nearby(data[index+1],number)\n",
    "        # if index != 0 and symbol_nearby == False:\n",
    "        #     is_symbol_nearby = symbol_nearby(data[index-1],number)\n",
    "        # if index != data_length and symbol_nearby == False:\n",
    "        #     is_symbol_nearby = symbol_nearby(data[index+1],number)\n",
    "        if is_symbol_nearby == True:\n",
    "            count += int(number[0])\n",
    "print(count)\n",
    "        "
   ]
  }
 ],
 "metadata": {
  "kernelspec": {
   "display_name": "data-analysis",
   "language": "python",
   "name": "python3"
  },
  "language_info": {
   "codemirror_mode": {
    "name": "ipython",
    "version": 3
   },
   "file_extension": ".py",
   "mimetype": "text/x-python",
   "name": "python",
   "nbconvert_exporter": "python",
   "pygments_lexer": "ipython3",
   "version": "3.10.6"
  }
 },
 "nbformat": 4,
 "nbformat_minor": 2
}
