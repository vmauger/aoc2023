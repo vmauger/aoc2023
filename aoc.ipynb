{
 "cells": [
  {
   "cell_type": "code",
   "execution_count": 2,
   "metadata": {
    "tags": []
   },
   "outputs": [],
   "source": [
    "def read_data(day_number, extension, split=\"\\n\"):\n",
    "    path = f'data_d{day_number}.{extension}'\n",
    "    with open(path) as f:\n",
    "            data = f.read()\n",
    "    data = data.strip('\\n\\n').split(split)\n",
    "    return data"
   ]
  },
  {
   "cell_type": "markdown",
   "metadata": {},
   "source": [
    "Day 1"
   ]
  },
  {
   "cell_type": "code",
   "execution_count": 3,
   "metadata": {},
   "outputs": [],
   "source": [
    "\n",
    "# data = read_data(1,\"csv\")\n",
    "# numbers = [\"0\",\"one\",\"two\",\"three\",\"four\",\"five\",\"six\",\"seven\",\"eight\",\"nine\"]\n",
    "# total_value = 0\n",
    "# for calibration in data:\n",
    "#     max_value = -1\n",
    "#     min_value = len(calibration)\n",
    "#     first_number = \"\"\n",
    "#     last_number = \"\"\n",
    "    \n",
    "#     for rank, value in enumerate(numbers):\n",
    "#         if calibration.find(str(rank)) != -1:\n",
    "#             left_pos = calibration.find(str(rank))\n",
    "#             right_pos = calibration.rfind(str(rank))\n",
    "#             if left_pos < min_value:\n",
    "#                 min_value = left_pos\n",
    "#                 first_number = rank\n",
    "#             if right_pos > max_value:\n",
    "#                 max_value = right_pos\n",
    "#                 last_number = rank\n",
    "\n",
    "#         if calibration.find(value) != -1:\n",
    "#             left_pos = calibration.find(value)\n",
    "#             right_pos = calibration.rfind(value)\n",
    "#             if left_pos < min_value:\n",
    "#                 min_value = left_pos\n",
    "#                 first_number = rank\n",
    "#             if right_pos > max_value:\n",
    "#                 max_value = right_pos\n",
    "#                 last_number = rank\n",
    "#     print(f'{calibration} --> {first_number*10+last_number}')\n",
    "#     total_value += first_number*10+last_number\n",
    "# print(f'Total sum: {total_value}')"
   ]
  },
  {
   "attachments": {},
   "cell_type": "markdown",
   "metadata": {},
   "source": [
    "Day 2"
   ]
  },
  {
   "cell_type": "code",
   "execution_count": 4,
   "metadata": {},
   "outputs": [],
   "source": [
    "# data = read_data(2,\"csv\")\n",
    "\n",
    "# sum_of_games_id = 0\n",
    "# sum_of_mini_cubes = 0\n",
    "# for index,game in enumerate(data):\n",
    "#     game_number = index + 1\n",
    "#     game = game.removeprefix(f'Game {game_number}: ').split('; ')\n",
    "#     color_count = {'red':[], 'green': [], 'blue': []}\n",
    "#     for draw in game:\n",
    "#         for ball in draw.split(', '):\n",
    "#             color = ball.split(' ')[-1]\n",
    "#             numb = int(ball.split(' ')[0])\n",
    "#             if color not in color_count:\n",
    "#                 color_count[color] = [numb]\n",
    "#             else:\n",
    "#                 color_count[color].append(numb)\n",
    "#     if max(color_count['red']) <= 12 and max(color_count['green']) <= 13 and max(color_count['blue']) <= 14:\n",
    "#         sum_of_games_id += game_number\n",
    "#     sum_of_mini_cubes += (max(color_count['red']) * max(color_count['green']) * max(color_count['blue']))\n",
    "# print(sum_of_games_id)\n",
    "# print(sum_of_mini_cubes)"
   ]
  },
  {
   "attachments": {},
   "cell_type": "markdown",
   "metadata": {},
   "source": [
    "Day 3"
   ]
  },
  {
   "cell_type": "code",
   "execution_count": 5,
   "metadata": {},
   "outputs": [],
   "source": [
    "# import re\n",
    "\n",
    "\n",
    "# def symbol_nearby(text,match):\n",
    "#     return len(re.findall(symbol_pattern,text[max(match.start()-1,0):min(match.end()+1,len(text)+1)])) != 0\n",
    "\n",
    "\n",
    "# data = read_data(3,\"csv\")\n",
    "# data_length = len(data)\n",
    "# symbol_pattern = re.compile(r\"[^\\d\\.\\r\\n]\")\n",
    "# star_pattern = re.compile(r\"\\*\")\n",
    "# count = 0\n",
    "# sum_gear_power = 0\n",
    "\n",
    "# for index,line in enumerate(data):\n",
    "#     for number in re.finditer(r\"\\d+\",line):\n",
    "#         is_symbol_nearby = symbol_nearby(line,number) or symbol_nearby(data[index-1],number) or symbol_nearby(data[index+1],number)\n",
    "#         if is_symbol_nearby == True:\n",
    "#             count += int(number[0])\n",
    "#     for star in re.finditer(star_pattern,line):\n",
    "#         pos = star.start()\n",
    "#         gear_numbers = []\n",
    "#         for line_nearby in data[max(index-1,0):min(index+2,data_length)]:\n",
    "#             # print(\"newline\")\n",
    "#             for numbers in re.finditer(r\"\\d+\",line_nearby):\n",
    "#                 number_pos_list = [x for x in range(numbers.start(),numbers.end())]\n",
    "#                 # print(f'star position: {pos}, star index: {index}, numbervalue: {int(numbers[0])}, numberpos: {number_pos_list}')\n",
    "#                 if pos-1 in number_pos_list or pos in number_pos_list or pos+1 in number_pos_list:\n",
    "#                     gear_numbers.append(int(numbers[0]))\n",
    "#         if len(gear_numbers) == 2:\n",
    "#             sum_gear_power += gear_numbers[0]*gear_numbers[1]\n",
    "# print(count)\n",
    "# print(sum_gear_power)"
   ]
  },
  {
   "cell_type": "markdown",
   "metadata": {},
   "source": [
    "Day 4"
   ]
  },
  {
   "cell_type": "code",
   "execution_count": 6,
   "metadata": {},
   "outputs": [],
   "source": [
    "# data = read_data(4,'csv')\n",
    "# count = 0\n",
    "# scratchcard_length = len(data)\n",
    "# scratchcard_copies = {index:1 for index in range(scratchcard_length)}\n",
    "# for index,card in enumerate(data):\n",
    "#     card = card[9:].split(' |')\n",
    "#     draw = {int(card[0][i:i+3].lstrip()) for i in range(0,len(card[0]),3)}\n",
    "#     guess = {int(card[1][i:i+3].lstrip()) for i in range(0,len(card[1]),3)}\n",
    "#     correct_guess = draw.intersection(guess)\n",
    "#     if len(correct_guess) != 0:\n",
    "#         count += pow(2,len(correct_guess)-1)\n",
    "#         for value in range(len(correct_guess)):\n",
    "#             scratchcard_copies[index+value+1] += scratchcard_copies[index]\n",
    "# print(count)\n",
    "# print(sum(scratchcard_copies.values()))"
   ]
  },
  {
   "cell_type": "markdown",
   "metadata": {},
   "source": [
    "Day 5"
   ]
  },
  {
   "cell_type": "code",
   "execution_count": 7,
   "metadata": {},
   "outputs": [],
   "source": [
    "# def clean_ranges(list_of_list):\n",
    "#     new_list = []\n",
    "#     list_of_list = sorted(list_of_list)\n",
    "#     for i in range(len(list_of_list)-1):\n",
    "#         start1, end1 = list_of_list[i]\n",
    "#         start2, end2 = list_of_list[i+1]\n",
    "#         if start1 == start2 or end1 > start2:\n",
    "#             list_of_list[i][1] = max(end1,end2)\n",
    "#             list_of_list[i+1] = list_of_list[i]\n",
    "#     for elem in list_of_list:\n",
    "#         if elem not in new_list:\n",
    "#             new_list.append(elem)\n",
    "#     return new_list\n",
    "\n",
    "\n",
    "\n",
    "\n",
    "# data = read_data(5,'csv', split = '\\n\\n')\n",
    "# seeds_to_locations = {'seed':[int(i) for i in data.pop(0).removeprefix('seeds: ').split(' ')]}\n",
    "# seeds_to_locations_part2 = []\n",
    "# for i in range(0,len(seeds_to_locations['seed']),2):\n",
    "#     start = seeds_to_locations['seed'][i]\n",
    "#     end = start + seeds_to_locations['seed'][i+1]\n",
    "#     seeds_to_locations_part2.append([start, end])\n",
    "# mapping = {}\n",
    "\n",
    "# for maps in data:\n",
    "#     maps = maps.split('\\n')\n",
    "#     key_before, key_after = tuple(maps.pop(0).removesuffix(' map:').split('-to-'))\n",
    "#     if key_after not in seeds_to_locations.keys():\n",
    "#         seeds_to_locations[key_after] = []\n",
    "#     maps = [[int(i) for i in x.split(' ')] for x in maps]\n",
    "#     reordered_mappings = []\n",
    "#     for index,map in enumerate(maps):\n",
    "#         reordered_mapping = list((map[1], map[1]+map[2], map[0]-map[1]))\n",
    "#         reordered_mappings.append(reordered_mapping)\n",
    "#     mapping[key_after] = reordered_mappings\n",
    "\n",
    "#     for seed in seeds_to_locations[key_before]:\n",
    "#         mapping_added = False\n",
    "#         for map in maps:\n",
    "#             if seed >= map[1] and seed <= (map[1] + map[-1]):\n",
    "#                 seeds_to_locations[key_after].append(map[0]+(seed-map[1]))\n",
    "#                 mapping_added = True\n",
    "#         if mapping_added == False:\n",
    "#             seeds_to_locations[key_after].append(seed)\n",
    "    \n",
    "# print(min(seeds_to_locations['location']))\n",
    "# print(\"Part 2 start:\")\n",
    "# print(seeds_to_locations_part2)\n",
    "# print()\n",
    "# for key,step in mapping.items():\n",
    "#     print('Analysing',key)\n",
    "#     print('list of displacements for this step',step)\n",
    "#     print()\n",
    "#     final_list_of_ranges = []\n",
    "#     for range_index, (seed_range_start, seed_range_end) in enumerate(seeds_to_locations_part2):\n",
    "#         print(f'Analysing range index {range_index}:', [seed_range_start, seed_range_end])\n",
    "#         print()\n",
    "#         for transformation_index, (transforming_start, transforming_end,displacement) in enumerate(step):\n",
    "#             print('checking overlap between', [seed_range_start, seed_range_end], 'and', [transforming_start, transforming_end, displacement])\n",
    "#             temp = [[seed_range_start,seed_range_end]]\n",
    "#             print('temporary copy of the range studied:', temp)\n",
    "#             if transforming_start > seed_range_end or transforming_end<seed_range_start: #scenario 1\n",
    "#                 print(\"\\t\\tno overlap --> scenario 1\")\n",
    "#                 pass\n",
    "#             elif transforming_start <= seed_range_start and transforming_end >= seed_range_end: #scenario 2\n",
    "#                 temp = [[seed_range_start+displacement,seed_range_end+displacement]]\n",
    "#                 final_list_of_ranges.append(temp[0])\n",
    "#                 break\n",
    "#             elif transforming_start > seed_range_start: #scenario 4\n",
    "#                 final_list_of_ranges.append([transforming_start+displacement,seed_range_end+displacement])\n",
    "#                 temp = [[seed_range_start,transforming_start-1]]\n",
    "#             elif transforming_end < seed_range_end: #scenario 5\n",
    "#                 final_list_of_ranges.append([seed_range_start+displacement,transforming_end+displacement])\n",
    "#                 temp = [[transforming_end+1,seed_range_end]]\n",
    "#             elif transforming_start > seed_range_start and transforming_end < seed_range_end: #scenario 3\n",
    "#                 print('careful!!!! scenario 3!!!!')\n",
    "#                 seeds_to_locations_part2.append([transforming_end+1,seed_range_end])\n",
    "#                 final_list_of_ranges.append([transforming_start+displacement,transforming_end+displacement])\n",
    "#                 temp = [[seed_range_start,transforming_start-1]]\n",
    "\n",
    "#             if transformation_index+1 == len(step):\n",
    "#                 final_list_of_ranges.append(temp[0])\n",
    "#             else:\n",
    "#                 seed_range_start, seed_range_end = temp[0]\n",
    "        \n",
    "#     final_list_of_ranges = clean_ranges(final_list_of_ranges)\n",
    "#     seeds_to_locations_part2 = final_list_of_ranges\n",
    "# print('Final:',min(seeds_to_locations_part2)[0])"
   ]
  },
  {
   "cell_type": "markdown",
   "metadata": {},
   "source": [
    "Day 6"
   ]
  },
  {
   "cell_type": "code",
   "execution_count": 8,
   "metadata": {},
   "outputs": [],
   "source": [
    "# data = read_data(6,'csv')\n",
    "# print(data)\n",
    "# races = [[int(data[0][9:][i:i+7].lstrip()), int(data[1][9:][i:i+7].lstrip())] for i in range(0,4*7,7)]\n",
    "# race2 = [[elem[9:][i:i+7].lstrip().rstrip() for i in range(0,4*7,7)] for elem in data]\n",
    "# print(races)\n",
    "# print(race2)\n",
    "# for index, line in enumerate(race2):\n",
    "#     race3 = ''\n",
    "#     for value in line:\n",
    "#         race3 += value\n",
    "#     race2[index] = int(race3)\n",
    "\n",
    "# print(race2)\n",
    "# print(races)\n",
    "# race_product = 1\n",
    "# for time, distance in races:\n",
    "#     race_new_record_count = 0\n",
    "#     for i in range(1,time-1):\n",
    "#         if i*(time-i) > distance:\n",
    "#             race_new_record_count += 1\n",
    "#     print(race_new_record_count)\n",
    "#     if race_new_record_count != 0:\n",
    "#         race_product = race_product * race_new_record_count\n",
    "# print(race_product)\n",
    "\n",
    "# part_2_solution = 0\n",
    "# time, distance = race2\n",
    "# for i in range(1,time-1):\n",
    "#     if i*(time-i) > distance:\n",
    "#         part_2_solution += 1\n",
    "# print(part_2_solution)"
   ]
  },
  {
   "cell_type": "markdown",
   "metadata": {},
   "source": [
    "Day 7"
   ]
  },
  {
   "cell_type": "code",
   "execution_count": 11,
   "metadata": {},
   "outputs": [
    {
     "name": "stdout",
     "output_type": "stream",
     "text": [
      "248256639\n"
     ]
    }
   ],
   "source": [
    "import pandas as pd\n",
    "\n",
    "\n",
    "def get_hand_value(string_value, joker = False):\n",
    "    string_value = sorted(string_value)\n",
    "    count_list = []\n",
    "    for index,i in enumerate(string_value):\n",
    "        if i not in string_value[:index] and not (joker == True and i == \"J\"):\n",
    "            count_list.append(string_value.count(i))\n",
    "    count_list = sorted(count_list, reverse=True)\n",
    "    if count_list == []:\n",
    "        count_list = [5]\n",
    "    if joker == True and count_list != [5]:\n",
    "        count_list[0] += string_value.count('J')\n",
    "    count_list = tuple(count_list)\n",
    "    return hand_value_dict[count_list]\n",
    "\n",
    "\n",
    "card_values = [\"2\", \"3\", \"4\", \"5\", \"6\", \"7\", \"8\", \"9\", \"T\", \"J\", \"Q\", \"K\", \"A\"]\n",
    "card_values_with_joker = [\"J\", \"2\", \"3\", \"4\", \"5\", \"6\", \"7\", \"8\", \"9\", \"T\", \"Q\", \"K\", \"A\"]\n",
    "hand_value_dict = {\n",
    "    (1, 1, 1, 1, 1) : \"High card\",\n",
    "    (2, 1, 1, 1)    : \"One pair\",\n",
    "    (2, 2, 1)       : \"Two pairs\",\n",
    "    (3, 1, 1)       : \"Three of a kind\",\n",
    "    (3, 2)          : \"Full House\",\n",
    "    (4, 1)          : \"Four of a kind\",\n",
    "    (5,)            : \"Five of a kind\"\n",
    "}\n",
    "df = pd.read_csv('data_d7.csv', sep=' ', names=['Hand', 'Bid'])\n",
    "for i in range(5):\n",
    "    df['Card'+ str(i+1)] = (df[\"Hand\"]\n",
    "                            .apply(lambda x: x[i])\n",
    "                            .astype(\"category\")\n",
    "                            .cat.reorder_categories(card_values_with_joker, ordered=True)\n",
    "                            )\n",
    "df['Value'] = (df[\"Hand\"]\n",
    "               .apply(lambda x: get_hand_value(x, joker=True))\n",
    "               .astype(\"category\")\n",
    "               .cat.reorder_categories(list(hand_value_dict.values()), ordered = True))\n",
    "df = df.sort_values(['Value','Card1','Card2','Card3','Card4','Card5'], ignore_index=True)\n",
    "print(sum(df['Bid'] * (1 + df.index)))"
   ]
  },
  {
   "cell_type": "markdown",
   "metadata": {},
   "source": [
    "Day 8"
   ]
  },
  {
   "cell_type": "code",
   "execution_count": 12,
   "metadata": {},
   "outputs": [
    {
     "name": "stdout",
     "output_type": "stream",
     "text": [
      "21797\n",
      "23977527174353\n"
     ]
    }
   ],
   "source": [
    "from math import lcm\n",
    "\n",
    "\n",
    "def step_counter(current_node, final_node, step=0):\n",
    "    while current_node != final_node:\n",
    "        if instruction[step%len(instruction)] == 'L':\n",
    "            left_or_right = 0\n",
    "        elif instruction[step%len(instruction)] == 'R':\n",
    "            left_or_right = 1\n",
    "        current_node = network[current_node][left_or_right]\n",
    "        step += 1\n",
    "        if step > 50000:\n",
    "            step = -1\n",
    "            break\n",
    "    return step\n",
    "\n",
    "\n",
    "instruction, network = read_data(8,'csv',split=\"\\n\\n\")\n",
    "network = {node[:3]: [node[7:10],node[-4:-1]] for node in network.split(sep=\"\\n\")}\n",
    "\n",
    "print(step_counter(\"AAA\", \"ZZZ\"))\n",
    "\n",
    "LCM_input = [len(instruction)]\n",
    "ending_A_list =  [x for x in network.keys() if x[-1] == \"A\"]\n",
    "ending_Z_list = [x for x in network.keys() if x[-1] == \"Z\"]\n",
    "for a in ending_A_list:\n",
    "    for z in ending_Z_list:\n",
    "        step = step_counter(a, z)\n",
    "        if step > 0:\n",
    "            LCM_input.append(step)\n",
    "print(lcm(*LCM_input))"
   ]
  }
 ],
 "metadata": {
  "kernelspec": {
   "display_name": "data-analysis",
   "language": "python",
   "name": "python3"
  },
  "language_info": {
   "codemirror_mode": {
    "name": "ipython",
    "version": 3
   },
   "file_extension": ".py",
   "mimetype": "text/x-python",
   "name": "python",
   "nbconvert_exporter": "python",
   "pygments_lexer": "ipython3",
   "version": "3.10.13"
  }
 },
 "nbformat": 4,
 "nbformat_minor": 2
}
