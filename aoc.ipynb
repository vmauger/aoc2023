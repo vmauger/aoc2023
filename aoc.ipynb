{
 "cells": [
  {
   "cell_type": "markdown",
   "metadata": {},
   "source": [
    "Day 1"
   ]
  },
  {
   "cell_type": "code",
   "execution_count": null,
   "metadata": {
    "tags": []
   },
   "outputs": [],
   "source": [
    "def read_data(day_number, extension):\n",
    "    path = f'data_d{day_number}.{extension}'\n",
    "    with open(path) as f:\n",
    "            data = f.read()\n",
    "    data = data.strip('\\n\\n').split('\\n')\n",
    "    return data\n",
    "\n"
   ]
  },
  {
   "cell_type": "code",
   "execution_count": null,
   "metadata": {},
   "outputs": [],
   "source": [
    "\n",
    "data = read_data(1,\"csv\")\n",
    "numbers = [\"0\",\"one\",\"two\",\"three\",\"four\",\"five\",\"six\",\"seven\",\"eight\",\"nine\"]\n",
    "total_value = 0\n",
    "for calibration in data:\n",
    "    max_value = -1\n",
    "    min_value = len(calibration)\n",
    "    first_number = \"\"\n",
    "    last_number = \"\"\n",
    "    \n",
    "    for rank, value in enumerate(numbers):\n",
    "        if calibration.find(str(rank)) != -1:\n",
    "            left_pos = calibration.find(str(rank))\n",
    "            right_pos = calibration.rfind(str(rank))\n",
    "            if left_pos < min_value:\n",
    "                min_value = left_pos\n",
    "                first_number = rank\n",
    "            if right_pos > max_value:\n",
    "                max_value = right_pos\n",
    "                last_number = rank\n",
    "\n",
    "        if calibration.find(value) != -1:\n",
    "            left_pos = calibration.find(value)\n",
    "            right_pos = calibration.rfind(value)\n",
    "            if left_pos < min_value:\n",
    "                min_value = left_pos\n",
    "                first_number = rank\n",
    "            if right_pos > max_value:\n",
    "                max_value = right_pos\n",
    "                last_number = rank\n",
    "    print(f'{calibration} --> {first_number*10+last_number}')\n",
    "    total_value += first_number*10+last_number\n",
    "print(f'Total sum: {total_value}')"
   ]
  }
 ],
 "metadata": {
  "kernelspec": {
   "display_name": "data-analysis",
   "language": "python",
   "name": "python3"
  },
  "language_info": {
   "codemirror_mode": {
    "name": "ipython",
    "version": 3
   },
   "file_extension": ".py",
   "mimetype": "text/x-python",
   "name": "python",
   "nbconvert_exporter": "python",
   "pygments_lexer": "ipython3",
   "version": "3.11.5"
  }
 },
 "nbformat": 4,
 "nbformat_minor": 2
}
